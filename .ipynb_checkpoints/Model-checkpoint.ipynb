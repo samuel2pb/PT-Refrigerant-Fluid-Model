{
 "cells": [
  {
   "cell_type": "code",
   "execution_count": 15,
   "metadata": {},
   "outputs": [],
   "source": [
    "from numpy import arange\n",
    "import pandas as pd\n",
    "from scipy.optimize import curve_fit\n",
    "from matplotlib import pyplot as plt\n",
    "%matplotlib inline"
   ]
  },
  {
   "cell_type": "code",
   "execution_count": 16,
   "metadata": {},
   "outputs": [],
   "source": [
    "plt.style.use(['ggplot'])"
   ]
  },
  {
   "cell_type": "code",
   "execution_count": 17,
   "metadata": {},
   "outputs": [
    {
     "name": "stdout",
     "output_type": "stream",
     "text": [
      "    bar (g)  T(ºC)\n",
      "0    0.0400 -39.98\n",
      "1    0.1700 -37.45\n",
      "2    0.3300 -34.61\n",
      "3    0.5100 -31.72\n",
      "4    0.6999 -28.94\n",
      "..      ...    ...\n",
      "84  26.1949  65.34\n",
      "85  27.8213  68.12\n",
      "86  28.0125  68.44\n",
      "87  29.6598  71.13\n",
      "88  30.0689  71.77\n",
      "\n",
      "[89 rows x 2 columns]\n"
     ]
    }
   ],
   "source": [
    "df = pd.read_excel (r'C:\\Users\\samuc\\Desktop\\PTI\\Projetos\\Refrigeração\\R22-Model\\R22.xlsx')\n",
    "print (df)"
   ]
  },
  {
   "cell_type": "code",
   "execution_count": 18,
   "metadata": {},
   "outputs": [],
   "source": [
    "P = df['bar (g)'].values"
   ]
  },
  {
   "cell_type": "code",
   "execution_count": 19,
   "metadata": {},
   "outputs": [],
   "source": [
    "t = df['T(ºC)'].values"
   ]
  },
  {
   "cell_type": "code",
   "execution_count": 20,
   "metadata": {
    "scrolled": false
   },
   "outputs": [],
   "source": []
  },
  {
   "cell_type": "code",
   "execution_count": 21,
   "metadata": {},
   "outputs": [
    {
     "data": {
      "text/plain": [
       "Text(0, 0.5, '$T$')"
      ]
     },
     "execution_count": 21,
     "metadata": {},
     "output_type": "execute_result"
    },
    {
     "data": {
      "image/png": "[encoded data removed]",
      "text/plain": [
       "<Figure size 432x288 with 1 Axes>"
      ]
     },
     "metadata": {},
     "output_type": "display_data"
    }
   ],
   "source": [
    "plt.plot(P,t,'b.')\n",
    "plt.xlabel(\"$P$\", fontsize=18)\n",
    "plt.ylabel(\"$T$\", rotation=0, fontsize=18)"
   ]
  },
  {
   "cell_type": "code",
   "execution_count": 26,
   "metadata": {},
   "outputs": [
    {
     "data": {
      "image/png": "[encoded data removed]",
      "text/plain": [
       "<Figure size 432x288 with 1 Axes>"
      ]
     },
     "metadata": {},
     "output_type": "display_data"
    },
    {
     "name": "stdout",
     "output_type": "stream",
     "text": [
      "Coefficients: 19.24465440082208,-4.60569216328839,0.9954076521054982,-0.1480849125189888,0.014572201757367925,-0.0009416934581605159,3.9396669000116935e-05,-1.0250672261012095e-06,1.5056036066048632e-08,-9.528309266841696e-11,-40.560537812759286\n"
     ]
    }
   ],
   "source": [
    "# fiting a tenth degree polynomial to the data\n",
    " \n",
    "# define the objective function\n",
    "def objective(P,a,b,c,d,e,f,g,h,i,j,k):\n",
    "\n",
    "\treturn (a * P) + (b * P**2) + (c * P**3) + (d * P**4) + (e * P**5) + (f * P**6) + (g * P**7) + (h * P**8) + (i * P**9) + (j * P**10) + k\n",
    "\n",
    "# scipy curve fit\n",
    "popt, _ = curve_fit(objective, P, t)\n",
    "# summarize the parameter values\n",
    "a, b, c, d,e,f,g,h,i,j,k= popt\n",
    "\n",
    "# plot input vs output\n",
    "plt.scatter(P, t)\n",
    "\n",
    "# define a sequence of inputs between the smallest and largest known inputs\n",
    "P_line = arange(min(P), max(P), 1)\n",
    "\n",
    "# calculate the output for the range\n",
    "t_line = objective(P_line, a, b, c,d,e,f,g,h,i,j,k)\n",
    "\n",
    "# create a line plot for the mapping function\n",
    "plt.plot(P_line, t_line, '--', color='blue')\n",
    "plt.show()\n",
    "print (F\"Coefficients: {a},{b},{c},{d},{e},{f},{g},{h},{i},{j},{k}\")\n"
   ]
  },
  {
   "cell_type": "code",
   "execution_count": null,
   "metadata": {},
   "outputs": [],
   "source": []
  }
 ],
 "metadata": {
  "kernelspec": {
   "display_name": "Python 3",
   "language": "python",
   "name": "python3"
  },
  "language_info": {
   "codemirror_mode": {
    "name": "ipython",
    "version": 3
   },
   "file_extension": ".py",
   "mimetype": "text/x-python",
   "name": "python",
   "nbconvert_exporter": "python",
   "pygments_lexer": "ipython3",
   "version": "3.8.5"
  }
 },
 "nbformat": 4,
 "nbformat_minor": 5
}
